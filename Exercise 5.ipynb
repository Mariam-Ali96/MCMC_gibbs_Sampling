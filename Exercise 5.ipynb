{
 "cells": [
  {
   "cell_type": "markdown",
   "metadata": {
    "heading_collapsed": true
   },
   "source": [
    "# Ex1"
   ]
  },
  {
   "cell_type": "code",
   "execution_count": 3,
   "metadata": {
    "hidden": true
   },
   "outputs": [],
   "source": [
    "f<-function(x,y) sin(sqrt(log(x+y+1)))"
   ]
  },
  {
   "cell_type": "code",
   "execution_count": 13,
   "metadata": {
    "hidden": true
   },
   "outputs": [
    {
     "name": "stderr",
     "output_type": "stream",
     "text": [
      "Installing package into ‘/home/mariam/R/x86_64-pc-linux-gnu-library/3.4’\n",
      "(as ‘lib’ is unspecified)\n"
     ]
    }
   ],
   "source": [
    "install.packages('pracma')"
   ]
  },
  {
   "cell_type": "code",
   "execution_count": 53,
   "metadata": {
    "hidden": true
   },
   "outputs": [
    {
     "data": {
      "text/html": [
       "<dl>\n",
       "\t<dt>$Q</dt>\n",
       "\t\t<dd>0.327341746152972</dd>\n",
       "\t<dt>$error</dt>\n",
       "\t\t<dd>2.75641110769296e-08</dd>\n",
       "</dl>\n"
      ],
      "text/latex": [
       "\\begin{description}\n",
       "\\item[\\$Q] 0.327341746152972\n",
       "\\item[\\$error] 2.75641110769296e-08\n",
       "\\end{description}\n"
      ],
      "text/markdown": [
       "$Q\n",
       ":   0.327341746152972\n",
       "$error\n",
       ":   2.75641110769296e-08\n",
       "\n",
       "\n"
      ],
      "text/plain": [
       "$Q\n",
       "[1] 0.3273417\n",
       "\n",
       "$error\n",
       "[1] 2.756411e-08\n"
      ]
     },
     "metadata": {},
     "output_type": "display_data"
    }
   ],
   "source": [
    "library('pracma')\n",
    "#a solution for the region inequality:\n",
    "#x> 0:0.5\n",
    "#y> 0:1\n",
    "integral2(f, 0,0.5,0,1)"
   ]
  },
  {
   "cell_type": "code",
   "execution_count": 56,
   "metadata": {
    "hidden": true
   },
   "outputs": [
    {
     "name": "stdout",
     "output_type": "stream",
     "text": [
      "[1] 0.3269862\n"
     ]
    }
   ],
   "source": [
    "u1 = runif(10000, min = 0, max= 0.5)\n",
    "u2 = runif(10000, min = 0, max = 1)\n",
    "g = f(u1,u2)\n",
    "int = 0.5*mean(g)\n",
    "print(int)"
   ]
  },
  {
   "cell_type": "code",
   "execution_count": 58,
   "metadata": {
    "hidden": true
   },
   "outputs": [
    {
     "data": {
      "text/plain": [
       "0.3273417 with absolute error < 4.1e-06"
      ]
     },
     "metadata": {},
     "output_type": "display_data"
    }
   ],
   "source": [
    "#double integral\n",
    "xllim = 0\n",
    "xulim = 0.5\n",
    "yllim = 0\n",
    "yulim = 1\n",
    "integrate(function(y) {\n",
    "    sapply(y,function(y){\n",
    "        integrate(function(x) f(x,y), xllim, xulim)$value\n",
    "    })\n",
    "}, yllim, yulim)"
   ]
  },
  {
   "cell_type": "markdown",
   "metadata": {
    "heading_collapsed": true
   },
   "source": [
    "# Ex 2 "
   ]
  },
  {
   "cell_type": "code",
   "execution_count": 133,
   "metadata": {
    "hidden": true
   },
   "outputs": [],
   "source": [
    "n_0 = 0\n",
    "n_tot = 100000\n",
    "vol= 0\n",
    "vol2 = 0\n",
    "for(i in 1:n_tot)\n",
    "    {x = runif(1)\n",
    "    y = runif(1)\n",
    "    z = runif(1)\n",
    "    if (x^2+sin(y)<=z && x-z+exp(y)<=1)\n",
    "          {n_0= n_0+1\n",
    "           ratio = n_0/n_tot\n",
    "            vol = x*y*z\n",
    "          }\n",
    "     else {NULL}\n",
    "     \n",
    "    }"
   ]
  },
  {
   "cell_type": "code",
   "execution_count": 134,
   "metadata": {
    "hidden": true
   },
   "outputs": [
    {
     "data": {
      "text/html": [
       "0.0245699526424217"
      ],
      "text/latex": [
       "0.0245699526424217"
      ],
      "text/markdown": [
       "0.0245699526424217"
      ],
      "text/plain": [
       "[1] 0.02456995"
      ]
     },
     "metadata": {},
     "output_type": "display_data"
    }
   ],
   "source": [
    "vol"
   ]
  },
  {
   "cell_type": "code",
   "execution_count": null,
   "metadata": {
    "hidden": true
   },
   "outputs": [],
   "source": []
  },
  {
   "cell_type": "code",
   "execution_count": null,
   "metadata": {
    "hidden": true
   },
   "outputs": [],
   "source": []
  },
  {
   "cell_type": "markdown",
   "metadata": {
    "heading_collapsed": true
   },
   "source": [
    "# EX3"
   ]
  },
  {
   "cell_type": "code",
   "execution_count": 135,
   "metadata": {
    "hidden": true
   },
   "outputs": [],
   "source": [
    "n_0 = 0\n",
    "n_tot = 10000000\n",
    "vol1= 0\n",
    "vol22 = 0\n",
    "for(i in 1:n_tot)\n",
    "    {x = runif(1, min = -1, max = 1)\n",
    "    y = runif(1, min = -1, max = 1)\n",
    "    z = runif(1, min = 0, max = 2)\n",
    "    if (x^2+y^2==z^2 && x^2+y^2+(z-1)^2 ==1)\n",
    "          {n_0= n_0+1\n",
    "           print(n_0)\n",
    "           ratio = n_0/n_tot\n",
    "            vol1 = x*y*z\n",
    "           \n",
    "          }\n",
    "     else {NULL}\n",
    "     \n",
    "    }\n",
    "\n",
    "#I think it needs foe itertion for the volume to have a value"
   ]
  },
  {
   "cell_type": "code",
   "execution_count": null,
   "metadata": {
    "hidden": true
   },
   "outputs": [],
   "source": []
  },
  {
   "cell_type": "markdown",
   "metadata": {},
   "source": [
    "# Ex4"
   ]
  },
  {
   "cell_type": "code",
   "execution_count": 131,
   "metadata": {},
   "outputs": [],
   "source": [
    "#Using the importance sampling method, Evaluate the integral"
   ]
  },
  {
   "cell_type": "markdown",
   "metadata": {},
   "source": [
    "$\\int_b^\\infty x^{\\alpha-1} e^{-x} dx$"
   ]
  },
  {
   "cell_type": "code",
   "execution_count": 143,
   "metadata": {},
   "outputs": [
    {
     "data": {
      "text/html": [
       "<ol class=list-inline>\n",
       "\t<li>0.0009974238484856</li>\n",
       "\t<li>0.000118036037870925</li>\n",
       "</ol>\n"
      ],
      "text/latex": [
       "\\begin{enumerate*}\n",
       "\\item 0.0009974238484856\n",
       "\\item 0.000118036037870925\n",
       "\\end{enumerate*}\n"
      ],
      "text/markdown": [
       "1. 0.0009974238484856\n",
       "2. 0.000118036037870925\n",
       "\n",
       "\n"
      ],
      "text/plain": [
       "[1] 0.0009974238 0.0001180360"
      ]
     },
     "metadata": {},
     "output_type": "display_data"
    }
   ],
   "source": [
    "a = 1.001\n",
    "b = 0.01\n",
    "#Importance sampling Monte Carlo\n",
    "w <- function(x) dunif(x, b , 100000)/dexp(x,rate=1.5)*pexp(1, rate=1.5)\n",
    "f <- function(x) x^(a-1)*exp(x)\n",
    "X= rexp(1000,rate=1.5)\n",
    "Y=w(X)*f(X)\n",
    "c( mean(Y), var(Y) )\n"
   ]
  },
  {
   "cell_type": "markdown",
   "metadata": {},
   "source": [
    "# EX 5"
   ]
  },
  {
   "cell_type": "code",
   "execution_count": 145,
   "metadata": {},
   "outputs": [
    {
     "data": {
      "text/html": [
       "<ol class=list-inline>\n",
       "\t<li>0.147590273169068</li>\n",
       "\t<li>20.0359836625858</li>\n",
       "</ol>\n"
      ],
      "text/latex": [
       "\\begin{enumerate*}\n",
       "\\item 0.147590273169068\n",
       "\\item 20.0359836625858\n",
       "\\end{enumerate*}\n"
      ],
      "text/markdown": [
       "1. 0.147590273169068\n",
       "2. 20.0359836625858\n",
       "\n",
       "\n"
      ],
      "text/plain": [
       "[1]  0.1475903 20.0359837"
      ]
     },
     "metadata": {},
     "output_type": "display_data"
    }
   ],
   "source": [
    "a = 0.099\n",
    "b = 0.01\n",
    "#Importance sampling Monte Carlo\n",
    "w <- function(x) dunif(x, b , 100000)/dexp(x,rate=1.5)*pexp(1, rate=1.5)\n",
    "f <- function(x) x^(a-1)*exp(x)\n",
    "X= rexp(1000,rate=1.5)\n",
    "Y=w(X)*f(X)\n",
    "c( mean(Y), var(Y) )\n"
   ]
  },
  {
   "cell_type": "code",
   "execution_count": null,
   "metadata": {},
   "outputs": [],
   "source": []
  }
 ],
 "metadata": {
  "kernelspec": {
   "display_name": "R",
   "language": "R",
   "name": "ir"
  },
  "language_info": {
   "codemirror_mode": "r",
   "file_extension": ".r",
   "mimetype": "text/x-r-source",
   "name": "R",
   "pygments_lexer": "r",
   "version": "3.4.3"
  },
  "latex_envs": {
   "LaTeX_envs_menu_present": true,
   "autoclose": false,
   "autocomplete": true,
   "bibliofile": "biblio.bib",
   "cite_by": "apalike",
   "current_citInitial": 1,
   "eqLabelWithNumbers": true,
   "eqNumInitial": 1,
   "hotkeys": {
    "equation": "Ctrl-E",
    "itemize": "Ctrl-I"
   },
   "labels_anchors": false,
   "latex_user_defs": false,
   "report_style_numbering": false,
   "user_envs_cfg": false
  }
 },
 "nbformat": 4,
 "nbformat_minor": 2
}
