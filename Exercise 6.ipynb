{
 "cells": [
  {
   "cell_type": "markdown",
   "metadata": {
    "heading_collapsed": true
   },
   "source": [
    "# EX2"
   ]
  },
  {
   "cell_type": "code",
   "execution_count": 48,
   "metadata": {
    "hidden": true
   },
   "outputs": [
    {
     "data": {
      "text/html": [
       "'uswages'"
      ],
      "text/latex": [
       "'uswages'"
      ],
      "text/markdown": [
       "'uswages'"
      ],
      "text/plain": [
       "[1] \"uswages\""
      ]
     },
     "metadata": {},
     "output_type": "display_data"
    },
    {
     "data": {
      "text/plain": [
       "      wage              educ           exper          race       smsa     \n",
       " Min.   :  50.39   Min.   : 0.00   Min.   : 0.00   White:1812   No : 483  \n",
       " 1st Qu.: 314.69   1st Qu.:12.00   1st Qu.: 8.00   Black: 155   Yes:1484  \n",
       " Median : 522.32   Median :12.00   Median :16.00                          \n",
       " Mean   : 613.99   Mean   :13.08   Mean   :18.74                          \n",
       " 3rd Qu.: 783.48   3rd Qu.:16.00   3rd Qu.:27.00                          \n",
       " Max.   :7716.05   Max.   :18.00   Max.   :59.00                          \n",
       "   pt       region  \n",
       " No :1802   ne:448  \n",
       " Yes: 165   mw:488  \n",
       "            so:616  \n",
       "            we:415  \n",
       "                    \n",
       "                    "
      ]
     },
     "metadata": {},
     "output_type": "display_data"
    },
    {
     "ename": "ERROR",
     "evalue": "Error in data.frame(uswages, region = 1 * uswages$ne + 2 * uswages$mw + : arguments imply differing number of rows: 1967, 0\n",
     "output_type": "error",
     "traceback": [
      "Error in data.frame(uswages, region = 1 * uswages$ne + 2 * uswages$mw + : arguments imply differing number of rows: 1967, 0\nTraceback:\n",
      "1. data.frame(uswages, region = 1 * uswages$ne + 2 * uswages$mw + \n .     3 * uswages$so + 4 * uswages$we)",
      "2. stop(gettextf(\"arguments imply differing number of rows: %s\", \n .     paste(unique(nrows), collapse = \", \")), domain = NA)"
     ]
    }
   ],
   "source": [
    "require(\"faraway\")\n",
    "head(\"uswages\")\n",
    "summary(uswages)\n",
    "uswages$exper[uswages$exper <0] <-NA\n",
    "\n",
    "# convert race, smsa, and pt to factor variables\n",
    "uswages$race <- factor(uswages$race)\n",
    "levels(uswages$race) <- c(\"White\",\"Black\")\n",
    "uswages$smsa <- factor(uswages$smsa)\n",
    "levels(uswages$smsa) <- c(\"No\",\"Yes\")\n",
    "uswages$pt <- factor(uswages$pt)\n",
    "levels(uswages$pt) <- c(\"No\",\"Yes\")\n",
    "\n",
    "# create region, a factor variable based on the four regions ne, mw, so, we\n",
    "uswages <- data.frame(uswages,\n",
    "                      region =\n",
    "                        1*uswages$ne +\n",
    "                        2*uswages$mw +\n",
    "                        3*uswages$so +\n",
    "                        4*uswages$we)\n",
    "uswages$region <- factor(uswages$region)\n",
    "levels(uswages$region) <- c(\"ne\",\"mw\",\"so\",\"we\")\n",
    "\n",
    "# delete the four regions ne, mw, so, we\n",
    "uswages <- subset(uswages,select=-c(ne:we))\n",
    "\n",
    "\n",
    "# Take care of NAs\n",
    "uswages <- na.omit(uswages)\n",
    "\n",
    "# Variable names\n",
    "names(uswages)\n"
   ]
  },
  {
   "cell_type": "code",
   "execution_count": 49,
   "metadata": {
    "hidden": true
   },
   "outputs": [
    {
     "data": {
      "text/html": [
       "<dl class=dl-horizontal>\n",
       "\t<dt>(Intercept)</dt>\n",
       "\t\t<dd>641.7178125</dd>\n",
       "\t<dt>regionmw</dt>\n",
       "\t\t<dd>-48.027300204918</dd>\n",
       "\t<dt>regionso</dt>\n",
       "\t\t<dd>-56.9028612012987</dd>\n",
       "\t<dt>regionwe</dt>\n",
       "\t\t<dd>9.5142356927711</dd>\n",
       "</dl>\n"
      ],
      "text/latex": [
       "\\begin{description*}\n",
       "\\item[(Intercept)] 641.7178125\n",
       "\\item[regionmw] -48.027300204918\n",
       "\\item[regionso] -56.9028612012987\n",
       "\\item[regionwe] 9.5142356927711\n",
       "\\end{description*}\n"
      ],
      "text/markdown": [
       "(Intercept)\n",
       ":   641.7178125regionmw\n",
       ":   -48.027300204918regionso\n",
       ":   -56.9028612012987regionwe\n",
       ":   9.5142356927711\n",
       "\n"
      ],
      "text/plain": [
       "(Intercept)    regionmw    regionso    regionwe \n",
       " 641.717812  -48.027300  -56.902861    9.514236 "
      ]
     },
     "metadata": {},
     "output_type": "display_data"
    }
   ],
   "source": [
    "#find correlation between wage and region\n",
    "g=lm(wage ~ region,data= uswages)\n",
    "coef(g)"
   ]
  },
  {
   "cell_type": "code",
   "execution_count": 50,
   "metadata": {
    "hidden": true
   },
   "outputs": [
    {
     "data": {
      "text/plain": [
       "\n",
       "Call:\n",
       "lm(formula = wage ~ region + educ + exper, data = uswages)\n",
       "\n",
       "Residuals:\n",
       "   Min     1Q Median     3Q    Max \n",
       "-991.6 -235.5  -49.5  149.3 7264.9 \n",
       "\n",
       "Coefficients:\n",
       "             Estimate Std. Error t value Pr(>|t|)    \n",
       "(Intercept) -228.3596    54.6719  -4.177 3.08e-05 ***\n",
       "regionmw     -32.5997    27.9236  -1.167    0.243    \n",
       "regionso     -27.6755    26.5297  -1.043    0.297    \n",
       "regionwe      34.6088    29.0959   1.189    0.234    \n",
       "educ          51.7280     3.3466  15.457  < 2e-16 ***\n",
       "exper          9.3551     0.7607  12.298  < 2e-16 ***\n",
       "---\n",
       "Signif. codes:  0 ‘***’ 0.001 ‘**’ 0.01 ‘*’ 0.05 ‘.’ 0.1 ‘ ’ 1\n",
       "\n",
       "Residual standard error: 426.3 on 1961 degrees of freedom\n",
       "Multiple R-squared:  0.138,\tAdjusted R-squared:  0.1358 \n",
       "F-statistic: 62.77 on 5 and 1961 DF,  p-value: < 2.2e-16\n"
      ]
     },
     "metadata": {},
     "output_type": "display_data"
    }
   ],
   "source": [
    "m1 = lm(wage ~ region, data= uswages)\n",
    "\n",
    "m2 = lm(wage ~region + educ + exper , data= uswages)\n",
    "m3 = lm(wage ~ educ, data= uswages)\n",
    "\n",
    "summary(m2)\n"
   ]
  },
  {
   "cell_type": "code",
   "execution_count": 51,
   "metadata": {
    "hidden": true
   },
   "outputs": [
    {
     "data": {
      "text/plain": [
       "\n",
       "Call:\n",
       "lm(formula = wage ~ educ, data = uswages)\n",
       "\n",
       "Residuals:\n",
       "   Min     1Q Median     3Q    Max \n",
       "-759.6 -264.3  -72.5  169.7 7503.5 \n",
       "\n",
       "Coefficients:\n",
       "            Estimate Std. Error t value Pr(>|t|)    \n",
       "(Intercept)   93.104     44.482   2.093   0.0365 *  \n",
       "educ          39.828      3.314  12.016   <2e-16 ***\n",
       "---\n",
       "Signif. codes:  0 ‘***’ 0.001 ‘**’ 0.01 ‘*’ 0.05 ‘.’ 0.1 ‘ ’ 1\n",
       "\n",
       "Residual standard error: 442.8 on 1965 degrees of freedom\n",
       "Multiple R-squared:  0.06845,\tAdjusted R-squared:  0.06798 \n",
       "F-statistic: 144.4 on 1 and 1965 DF,  p-value: < 2.2e-16\n"
      ]
     },
     "metadata": {},
     "output_type": "display_data"
    },
    {
     "data": {
      "image/png": "[encoded data removed]",
      "text/plain": [
       "plot without title"
      ]
     },
     "metadata": {},
     "output_type": "display_data"
    }
   ],
   "source": [
    "x = uswages$educ\n",
    "y = uswages$wage\n",
    "par(mfcol=c(1,1), mgp=c(2.0,0.8,0), mar=c(3.5,3.5,1,1), oma=0.1*c(1,1,1,1))\n",
    "plot(x, y, pch=15, col='navy',\n",
    "     xlab='x', ylab='y')\n",
    "abline(m3, col='firebrick3', lw=2)\n",
    "\n",
    "a <- m2$coefficient[1]\n",
    "b <- m2$coefficient[2]\n",
    "\n",
    "text(9, 11.5, adj=1,\n",
    "     paste(\"a =\", sprintf(\"%.2f\",a),\n",
    "           \"b =\", sprintf(\"%.2f\",b), sep=' '))\n",
    "\n",
    "summary(m3)"
   ]
  },
  {
   "cell_type": "markdown",
   "metadata": {
    "heading_collapsed": true
   },
   "source": [
    "# EX3"
   ]
  },
  {
   "cell_type": "code",
   "execution_count": 54,
   "metadata": {
    "hidden": true
   },
   "outputs": [],
   "source": []
  },
  {
   "cell_type": "code",
   "execution_count": 60,
   "metadata": {
    "hidden": true
   },
   "outputs": [
    {
     "data": {
      "text/plain": [
       "     expend          ratio           salary          takers     \n",
       " Min.   :3.656   Min.   :13.80   Min.   :25.99   Min.   : 4.00  \n",
       " 1st Qu.:4.882   1st Qu.:15.22   1st Qu.:30.98   1st Qu.: 9.00  \n",
       " Median :5.768   Median :16.60   Median :33.29   Median :28.00  \n",
       " Mean   :5.905   Mean   :16.86   Mean   :34.83   Mean   :35.24  \n",
       " 3rd Qu.:6.434   3rd Qu.:17.57   3rd Qu.:38.55   3rd Qu.:63.00  \n",
       " Max.   :9.774   Max.   :24.30   Max.   :50.05   Max.   :81.00  \n",
       "     verbal           math           total       \n",
       " Min.   :401.0   Min.   :443.0   Min.   : 844.0  \n",
       " 1st Qu.:427.2   1st Qu.:474.8   1st Qu.: 897.2  \n",
       " Median :448.0   Median :497.5   Median : 945.5  \n",
       " Mean   :457.1   Mean   :508.8   Mean   : 965.9  \n",
       " 3rd Qu.:490.2   3rd Qu.:539.5   3rd Qu.:1032.0  \n",
       " Max.   :516.0   Max.   :592.0   Max.   :1107.0  "
      ]
     },
     "metadata": {},
     "output_type": "display_data"
    }
   ],
   "source": [
    "summary(sat)\n"
   ]
  },
  {
   "cell_type": "code",
   "execution_count": 62,
   "metadata": {
    "hidden": true
   },
   "outputs": [
    {
     "data": {
      "text/html": [
       "<ol class=list-inline>\n",
       "\t<li>'expend'</li>\n",
       "\t<li>'ratio'</li>\n",
       "\t<li>'salary'</li>\n",
       "\t<li>'takers'</li>\n",
       "\t<li>'verbal'</li>\n",
       "\t<li>'math'</li>\n",
       "\t<li>'total'</li>\n",
       "</ol>\n"
      ],
      "text/latex": [
       "\\begin{enumerate*}\n",
       "\\item 'expend'\n",
       "\\item 'ratio'\n",
       "\\item 'salary'\n",
       "\\item 'takers'\n",
       "\\item 'verbal'\n",
       "\\item 'math'\n",
       "\\item 'total'\n",
       "\\end{enumerate*}\n"
      ],
      "text/markdown": [
       "1. 'expend'\n",
       "2. 'ratio'\n",
       "3. 'salary'\n",
       "4. 'takers'\n",
       "5. 'verbal'\n",
       "6. 'math'\n",
       "7. 'total'\n",
       "\n",
       "\n"
      ],
      "text/plain": [
       "[1] \"expend\" \"ratio\"  \"salary\" \"takers\" \"verbal\" \"math\"   \"total\" "
      ]
     },
     "metadata": {},
     "output_type": "display_data"
    }
   ],
   "source": [
    "sat <- na.omit(sat)\n",
    "\n",
    "# Variable names\n",
    "names(sat)"
   ]
  },
  {
   "cell_type": "code",
   "execution_count": 63,
   "metadata": {
    "hidden": true
   },
   "outputs": [],
   "source": [
    "m4 =lm(math ~ verbal, data= sat)\n"
   ]
  },
  {
   "cell_type": "code",
   "execution_count": 68,
   "metadata": {
    "hidden": true
   },
   "outputs": [],
   "source": [
    "#Math high scores are correlated with verbal high scores"
   ]
  },
  {
   "cell_type": "code",
   "execution_count": 67,
   "metadata": {
    "hidden": true
   },
   "outputs": [
    {
     "data": {
      "text/plain": [
       "\n",
       "Call:\n",
       "lm(formula = salary ~ ratio, data = sat)\n",
       "\n",
       "Residuals:\n",
       "   Min     1Q Median     3Q    Max \n",
       "-8.842 -3.857 -1.541  3.724 15.209 \n",
       "\n",
       "Coefficients:\n",
       "             Estimate Std. Error t value Pr(>|t|)    \n",
       "(Intercept) 34.879569   6.435002   5.420  1.9e-06 ***\n",
       "ratio       -0.003004   0.378382  -0.008    0.994    \n",
       "---\n",
       "Signif. codes:  0 ‘***’ 0.001 ‘**’ 0.01 ‘*’ 0.05 ‘.’ 0.1 ‘ ’ 1\n",
       "\n",
       "Residual standard error: 6.003 on 48 degrees of freedom\n",
       "Multiple R-squared:  1.314e-06,\tAdjusted R-squared:  -0.02083 \n",
       "F-statistic: 6.305e-05 on 1 and 48 DF,  p-value: 0.9937\n"
      ]
     },
     "metadata": {},
     "output_type": "display_data"
    },
    {
     "data": {
      "image/png": "[encoded data removed]",
      "text/plain": [
       "plot without title"
      ]
     },
     "metadata": {},
     "output_type": "display_data"
    }
   ],
   "source": [
    "x = sat$verbal\n",
    "y = sat$math\n",
    "par(mfcol=c(1,1), mgp=c(2.0,0.8,0), mar=c(3.5,3.5,1,1), oma=0.1*c(1,1,1,1))\n",
    "plot(x, y, pch=15, col='navy',\n",
    "     xlab='x', ylab='y')\n",
    "abline(m4, col='firebrick3', lw=2)\n",
    "\n",
    "a <- m4$coefficient[1]\n",
    "b <- m4$coefficient[2]\n",
    "\n",
    "text(9, 11.5, adj=1,\n",
    "     paste(\"a =\", sprintf(\"%.2f\",a),\n",
    "           \"b =\", sprintf(\"%.2f\",b), sep=' '))\n",
    "\n",
    "summary(m4)"
   ]
  },
  {
   "cell_type": "code",
   "execution_count": null,
   "metadata": {
    "hidden": true
   },
   "outputs": [],
   "source": []
  },
  {
   "cell_type": "markdown",
   "metadata": {
    "heading_collapsed": true
   },
   "source": [
    "# EX4"
   ]
  },
  {
   "cell_type": "markdown",
   "metadata": {
    "hidden": true
   },
   "source": [
    "Choosing the same box you have a $ 2/3$ probability of getting a second gold ring. "
   ]
  },
  {
   "cell_type": "markdown",
   "metadata": {
    "heading_collapsed": true
   },
   "source": [
    "# EX5"
   ]
  },
  {
   "cell_type": "code",
   "execution_count": 3,
   "metadata": {
    "hidden": true
   },
   "outputs": [],
   "source": [
    "f<- function(x,y,z)  y*x^2+z*log(y)+exp(x)"
   ]
  },
  {
   "cell_type": "code",
   "execution_count": 21,
   "metadata": {
    "hidden": true
   },
   "outputs": [
    {
     "data": {
      "text/html": [
       "49.9413512283027"
      ],
      "text/latex": [
       "49.9413512283027"
      ],
      "text/markdown": [
       "49.9413512283027"
      ],
      "text/plain": [
       "[1] 49.94135"
      ]
     },
     "metadata": {},
     "output_type": "display_data"
    }
   ],
   "source": [
    "#1 sample mean\n",
    "n = 1000000\n",
    "x = runif(n,-1,1)\n",
    "y = runif(n,3,6)\n",
    "z = runif(n,0,2)\n",
    "g= f(x,y,z)\n",
    "integral = mean(g)*2*3*2\n",
    "integral"
   ]
  },
  {
   "cell_type": "code",
   "execution_count": 22,
   "metadata": {
    "hidden": true
   },
   "outputs": [
    {
     "data": {
      "text/plain": [
       "110.3343 with absolute error < 1.2e-12"
      ]
     },
     "metadata": {},
     "output_type": "display_data"
    }
   ],
   "source": [
    "integrate(Vectorize(function(x) { \n",
    "    integrate(Vectorize(function(y) { \n",
    "        integrate(function(z) {  y*x^2+z*log(y)+exp(x) }, -1, 1)$value }), 3,6)$value }), 0,2)\n"
   ]
  },
  {
   "cell_type": "markdown",
   "metadata": {
    "heading_collapsed": true
   },
   "source": [
    "# EX 6"
   ]
  },
  {
   "cell_type": "code",
   "execution_count": 39,
   "metadata": {
    "hidden": true
   },
   "outputs": [
    {
     "data": {
      "text/html": [
       "0.881488550504759"
      ],
      "text/latex": [
       "0.881488550504759"
      ],
      "text/markdown": [
       "0.881488550504759"
      ],
      "text/plain": [
       "[1] 0.8814886"
      ]
     },
     "metadata": {},
     "output_type": "display_data"
    }
   ],
   "source": [
    "#area  under the curve bound by a triangle:\n",
    "#plot triangle\n",
    "x = c(1,0,-1)\n",
    "y = c(0,1,0)\n",
    "#plot(x,y, type = 'l')\n",
    "y1 = function(x) exp(-(x+1)^2)\n",
    "x1 = runif(100000,-1,1)\n",
    "int = 2*mean(y1(x1))\n",
    "int"
   ]
  },
  {
   "cell_type": "markdown",
   "metadata": {},
   "source": [
    "# Ex 7"
   ]
  },
  {
   "cell_type": "code",
   "execution_count": 41,
   "metadata": {},
   "outputs": [
    {
     "data": {
      "text/html": [
       "<dl>\n",
       "\t<dt>$Q</dt>\n",
       "\t\t<dd>21604.6811402039</dd>\n",
       "\t<dt>$error</dt>\n",
       "\t\t<dd>1.05953023398865e-08</dd>\n",
       "</dl>\n"
      ],
      "text/latex": [
       "\\begin{description}\n",
       "\\item[\\$Q] 21604.6811402039\n",
       "\\item[\\$error] 1.05953023398865e-08\n",
       "\\end{description}\n"
      ],
      "text/markdown": [
       "$Q\n",
       ":   21604.6811402039\n",
       "$error\n",
       ":   1.05953023398865e-08\n",
       "\n",
       "\n"
      ],
      "text/plain": [
       "$Q\n",
       "[1] 21604.68\n",
       "\n",
       "$error\n",
       "[1] 1.05953e-08\n"
      ]
     },
     "metadata": {},
     "output_type": "display_data"
    }
   ],
   "source": [
    "library('pracma')\n",
    "#x is between 1/9 and 9\n",
    "#y is between 1/3 and 3\n",
    "g = function(x,y) exp(x)+cos(x*y)\n",
    "integral2(g, 1/9,9,1/3,3)"
   ]
  },
  {
   "cell_type": "code",
   "execution_count": 48,
   "metadata": {},
   "outputs": [
    {
     "data": {
      "text/html": [
       "2428.75185074181"
      ],
      "text/latex": [
       "2428.75185074181"
      ],
      "text/markdown": [
       "2428.75185074181"
      ],
      "text/plain": [
       "[1] 2428.752"
      ]
     },
     "metadata": {},
     "output_type": "display_data"
    }
   ],
   "source": [
    "u1 = runif(10000000,1/9,9)\n",
    "u2 = runif(10000000,1/3,3)\n",
    "d= 3-1/3\n",
    "integral = mean(g(u1,u2))*d\n",
    "integral"
   ]
  },
  {
   "cell_type": "code",
   "execution_count": 44,
   "metadata": {},
   "outputs": [],
   "source": []
  },
  {
   "cell_type": "code",
   "execution_count": null,
   "metadata": {},
   "outputs": [],
   "source": []
  }
 ],
 "metadata": {
  "kernelspec": {
   "display_name": "R",
   "language": "R",
   "name": "ir"
  },
  "language_info": {
   "codemirror_mode": "r",
   "file_extension": ".r",
   "mimetype": "text/x-r-source",
   "name": "R",
   "pygments_lexer": "r",
   "version": "3.4.3"
  },
  "latex_envs": {
   "LaTeX_envs_menu_present": true,
   "autoclose": false,
   "autocomplete": true,
   "bibliofile": "biblio.bib",
   "cite_by": "apalike",
   "current_citInitial": 1,
   "eqLabelWithNumbers": true,
   "eqNumInitial": 1,
   "hotkeys": {
    "equation": "Ctrl-E",
    "itemize": "Ctrl-I"
   },
   "labels_anchors": false,
   "latex_user_defs": false,
   "report_style_numbering": false,
   "user_envs_cfg": false
  }
 },
 "nbformat": 4,
 "nbformat_minor": 2
}
